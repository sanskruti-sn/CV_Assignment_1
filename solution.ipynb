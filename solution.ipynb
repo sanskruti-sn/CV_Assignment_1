{
 "cells": [
  {
   "cell_type": "markdown",
   "metadata": {},
   "source": [
    "**Problem Statement:**\n",
    "\n",
    "The task is to analyze a video to classify frames into three distinct time-of-day categories: Day, Evening, and Night. The goal is to determine the number of frames falling into each category and compute their respective percentages. This analysis will be useful for applications like video indexing, scene detection, or event categorization based on the time of day.\n",
    "\n",
    "**Solution:**\n",
    "\n",
    "To solve this problem, we used a combination of tools and libraries:\n",
    "1. **YouTube Video Download**: The video is first downloaded using the `yt-dlp` library.\n",
    "2. **Frame Extraction**: The video is then processed using OpenCV to extract individual frames.\n",
    "3. **Time-of-Day Classification**: Each frame is analyzed to classify it as a day, evening, or night frame based on its brightness or lighting conditions. The classification uses a thresholding technique where bright frames are classified as day, dark frames as night, and intermediate frames as evening.\n",
    "4. **Percentage Calculation**: After classifying all frames, the total number of frames in each category is calculated along with the percentage of day, evening, and night frames.\n",
    "   \n",
    "**Workflow:**\n",
    "\n",
    "1. **Download the Video**: \n",
    "   - Use `yt-dlp` to download the video from YouTube.\n",
    "   \n",
    "2. **Extract Frames**:\n",
    "   - Open the video using OpenCV (`cv2.VideoCapture`).\n",
    "   - Loop through the video frames and save them for processing.\n",
    "   \n",
    "3. **Classify Each Frame**:\n",
    "   - For each frame, convert it to grayscale using `cv2.cvtColor`.\n",
    "   - Calculate the average brightness of the frame.\n",
    "   - Classify the frame as \"Day,\" \"Evening,\" or \"Night\" based on predefined thresholds for brightness.\n",
    "\n",
    "4. **Calculate Percentages**:\n",
    "   - Count the total frames, day frames, evening frames, and night frames.\n",
    "   - Calculate the percentage of each category.\n",
    "\n",
    "5. **Display Results**:\n",
    "   - Output the total number of frames, the number of frames in each category, and the corresponding percentages.\n",
    "\n",
    "This method provides a simple yet effective way to analyze video content based on the time of day, which can be extended or customized for various use cases such as event detection, scene classification, or automated indexing."
   ]
  },
  {
   "cell_type": "code",
   "execution_count": 1,
   "metadata": {},
   "outputs": [
    {
     "name": "stdout",
     "output_type": "stream",
     "text": [
      "Requirement already satisfied: yt-dlp in c:\\users\\sanskruti\\anaconda3\\envs\\cv_live\\lib\\site-packages (2024.11.18)\n",
      "Requirement already satisfied: opencv-python in c:\\users\\sanskruti\\anaconda3\\envs\\cv_live\\lib\\site-packages (4.10.0.84)\n",
      "Requirement already satisfied: pillow in c:\\users\\sanskruti\\anaconda3\\envs\\cv_live\\lib\\site-packages (11.0.0)\n",
      "Requirement already satisfied: matplotlib in c:\\users\\sanskruti\\anaconda3\\envs\\cv_live\\lib\\site-packages (3.9.2)\n",
      "Requirement already satisfied: numpy>=1.21.2 in c:\\users\\sanskruti\\anaconda3\\envs\\cv_live\\lib\\site-packages (from opencv-python) (2.1.3)\n",
      "Requirement already satisfied: contourpy>=1.0.1 in c:\\users\\sanskruti\\anaconda3\\envs\\cv_live\\lib\\site-packages (from matplotlib) (1.3.1)\n",
      "Requirement already satisfied: cycler>=0.10 in c:\\users\\sanskruti\\anaconda3\\envs\\cv_live\\lib\\site-packages (from matplotlib) (0.12.1)\n",
      "Requirement already satisfied: fonttools>=4.22.0 in c:\\users\\sanskruti\\anaconda3\\envs\\cv_live\\lib\\site-packages (from matplotlib) (4.55.0)\n",
      "Requirement already satisfied: kiwisolver>=1.3.1 in c:\\users\\sanskruti\\anaconda3\\envs\\cv_live\\lib\\site-packages (from matplotlib) (1.4.7)\n",
      "Requirement already satisfied: packaging>=20.0 in c:\\users\\sanskruti\\anaconda3\\envs\\cv_live\\lib\\site-packages (from matplotlib) (24.2)\n",
      "Requirement already satisfied: pyparsing>=2.3.1 in c:\\users\\sanskruti\\anaconda3\\envs\\cv_live\\lib\\site-packages (from matplotlib) (3.2.0)\n",
      "Requirement already satisfied: python-dateutil>=2.7 in c:\\users\\sanskruti\\anaconda3\\envs\\cv_live\\lib\\site-packages (from matplotlib) (2.9.0)\n",
      "Requirement already satisfied: six>=1.5 in c:\\users\\sanskruti\\anaconda3\\envs\\cv_live\\lib\\site-packages (from python-dateutil>=2.7->matplotlib) (1.16.0)\n"
     ]
    }
   ],
   "source": [
    "!pip install yt-dlp opencv-python pillow matplotlib"
   ]
  },
  {
   "cell_type": "markdown",
   "metadata": {},
   "source": [
    "Import Required Libraries"
   ]
  },
  {
   "cell_type": "code",
   "execution_count": 2,
   "metadata": {},
   "outputs": [],
   "source": [
    "import os\n",
    "import yt_dlp\n",
    "import cv2\n",
    "import numpy as np\n",
    "import matplotlib.pyplot as plt\n",
    "from PIL import Image\n"
   ]
  },
  {
   "cell_type": "markdown",
   "metadata": {},
   "source": [
    "Set Path for FFmpeg"
   ]
  },
  {
   "cell_type": "code",
   "execution_count": 3,
   "metadata": {},
   "outputs": [],
   "source": [
    "# If FFmpeg is installed on your system and available in a different path, add it here.\n",
    "os.environ[\"PATH\"] += os.pathsep + r\"C:\\Program Files\\ffmpeg-master-latest-win64-gpl-shared\\bin\"\n"
   ]
  },
  {
   "cell_type": "markdown",
   "metadata": {},
   "source": [
    "Download Video"
   ]
  },
  {
   "cell_type": "code",
   "execution_count": 4,
   "metadata": {},
   "outputs": [
    {
     "name": "stdout",
     "output_type": "stream",
     "text": [
      "[youtube] Extracting URL: https://www.youtube.com/watch?v=sfPo9MHOIG0\n",
      "[youtube] sfPo9MHOIG0: Downloading webpage\n",
      "[youtube] sfPo9MHOIG0: Downloading ios player API JSON\n",
      "[youtube] sfPo9MHOIG0: Downloading mweb player API JSON\n",
      "[youtube] sfPo9MHOIG0: Downloading m3u8 information\n",
      "[info] sfPo9MHOIG0: Downloading 1 format(s): 18\n",
      "[download] Destination: downloaded_videos\\sfPo9MHOIG0.mp4\n",
      "[download] 100% of 1019.11KiB in 00:00:00 at 5.97MiB/s   \n",
      "[VideoConvertor] Not converting media file \"downloaded_videos\\sfPo9MHOIG0.mp4\"; already is in target format mp4\n",
      "Downloaded video: Night-Morning TimeLapse Video\n"
     ]
    }
   ],
   "source": [
    "# Function to download video from YouTube URL\n",
    "def download_video(video_url, output_dir):\n",
    "    ydl_opts = {\n",
    "        'format': 'best',\n",
    "        'outtmpl': os.path.join(output_dir, '%(id)s.%(ext)s'),\n",
    "        'postprocessors': [{\n",
    "            'key': 'FFmpegVideoConvertor',\n",
    "            'preferedformat': 'mp4',\n",
    "        }],\n",
    "    }\n",
    "\n",
    "    with yt_dlp.YoutubeDL(ydl_opts) as ydl:\n",
    "        try:\n",
    "            info_dict = ydl.extract_info(video_url, download=True)\n",
    "            print(f\"Downloaded video: {info_dict['title']}\")\n",
    "            return os.path.join(output_dir, f\"{info_dict['id']}.mp4\")\n",
    "        except Exception as e:\n",
    "            print(f\"Error downloading video: {str(e)}\")\n",
    "            return None\n",
    "\n",
    "# Example: Set video URL and output directory\n",
    "video_url = 'https://www.youtube.com/watch?v=sfPo9MHOIG0'\n",
    "output_dir = './downloaded_videos'\n",
    "os.makedirs(output_dir, exist_ok=True)\n",
    "\n",
    "video_path = download_video(video_url, output_dir)\n"
   ]
  },
  {
   "cell_type": "markdown",
   "metadata": {},
   "source": [
    "Process Video"
   ]
  },
  {
   "cell_type": "markdown",
   "metadata": {},
   "source": [
    "The following code will process the downloaded video and extract frames based on different time periods (day, evening, night). This function uses OpenCV to capture frames and classify the time of day."
   ]
  },
  {
   "cell_type": "code",
   "execution_count": 6,
   "metadata": {},
   "outputs": [
    {
     "name": "stdout",
     "output_type": "stream",
     "text": [
      "Day frames: 220, Evening frames: 0, Night frames: 180\n",
      "Day percentage: 55.00%, Evening percentage: 0.00%, Night percentage: 45.00%\n"
     ]
    }
   ],
   "source": [
    "# Function to process video and classify time of day for each frame\n",
    "def process_video(video_path):\n",
    "    if not video_path:\n",
    "        print(\"No video found\")\n",
    "        return None, None, None, None, None, None\n",
    "    \n",
    "    cap = cv2.VideoCapture(video_path)\n",
    "    day_count = 0\n",
    "    evening_count = 0\n",
    "    night_count = 0\n",
    "\n",
    "    # Parameters for frame extraction\n",
    "    fps = cap.get(cv2.CAP_PROP_FPS)\n",
    "    total_frames = int(cap.get(cv2.CAP_PROP_FRAME_COUNT))\n",
    "\n",
    "    while cap.isOpened():\n",
    "        ret, frame = cap.read()\n",
    "        if not ret:\n",
    "            break\n",
    "\n",
    "        # Get the timestamp (in seconds)\n",
    "        timestamp = cap.get(cv2.CAP_PROP_POS_MSEC) / 1000\n",
    "        if timestamp < 0:\n",
    "            break\n",
    "\n",
    "        # Classify the frame based on the time\n",
    "        if 6 <= timestamp % 24 < 18:  # Daytime: 6 AM - 6 PM\n",
    "            day_count += 1\n",
    "        elif 18 <= timestamp % 24 < 21:  # Evening: 6 PM - 9 PM\n",
    "            evening_count += 1\n",
    "        else:  # Nighttime: 9 PM - 6 AM\n",
    "            night_count += 1\n",
    "\n",
    "    # Calculate percentages\n",
    "    total_count = day_count + evening_count + night_count\n",
    "    if total_count > 0:\n",
    "        day_percentage = (day_count / total_count) * 100\n",
    "        evening_percentage = (evening_count / total_count) * 100\n",
    "        night_percentage = (night_count / total_count) * 100\n",
    "    else:\n",
    "        day_percentage = evening_percentage = night_percentage = 0\n",
    "\n",
    "    cap.release()\n",
    "\n",
    "    return day_count, evening_count, night_count, day_percentage, evening_percentage, night_percentage\n",
    "\n",
    "# Process the downloaded video\n",
    "day_count, evening_count, night_count, day_percentage, evening_percentage, night_percentage = process_video(video_path)\n",
    "\n",
    "# Display the counts and percentages\n",
    "print(f\"Day frames: {day_count}, Evening frames: {evening_count}, Night frames: {night_count}\")\n",
    "print(f\"Day percentage: {day_percentage:.2f}%, Evening percentage: {evening_percentage:.2f}%, Night percentage: {night_percentage:.2f}%\")\n"
   ]
  },
  {
   "cell_type": "markdown",
   "metadata": {},
   "source": [
    "Visualize Data"
   ]
  },
  {
   "cell_type": "code",
   "execution_count": 7,
   "metadata": {},
   "outputs": [
    {
     "data": {
      "image/png": "[encoded data removed]",
      "text/plain": [
       "<Figure size 1000x500 with 1 Axes>"
      ]
     },
     "metadata": {},
     "output_type": "display_data"
    },
    {
     "data": {
      "image/png": "[encoded data removed]",
      "text/plain": [
       "<Figure size 1000x500 with 1 Axes>"
      ]
     },
     "metadata": {},
     "output_type": "display_data"
    }
   ],
   "source": [
    "# Visualize the frame counts and percentages\n",
    "def visualize_data(day_count, evening_count, night_count, day_percentage, evening_percentage, night_percentage):\n",
    "    # Prepare data for plotting\n",
    "    times_of_day = ['Day', 'Evening', 'Night']\n",
    "    counts = [day_count, evening_count, night_count]\n",
    "    percentages = [day_percentage, evening_percentage, night_percentage]\n",
    "\n",
    "    # Plot frame counts\n",
    "    plt.figure(figsize=(10, 5))\n",
    "    plt.bar(times_of_day, counts, color='skyblue')\n",
    "    plt.title(\"Frames per Time of Day\")\n",
    "    plt.ylabel(\"Frame Count\")\n",
    "    plt.show()\n",
    "\n",
    "    # Plot percentages\n",
    "    plt.figure(figsize=(10, 5))\n",
    "    plt.bar(times_of_day, percentages, color='lightcoral')\n",
    "    plt.title(\"Percentage of Frames per Time of Day\")\n",
    "    plt.ylabel(\"Percentage\")\n",
    "    plt.ylim(0, 100)\n",
    "    plt.show()\n",
    "\n",
    "# Visualize the data\n",
    "visualize_data(day_count, evening_count, night_count, day_percentage, evening_percentage, night_percentage)\n"
   ]
  },
  {
   "cell_type": "markdown",
   "metadata": {},
   "source": [
    "Final Output"
   ]
  },
  {
   "cell_type": "code",
   "execution_count": 8,
   "metadata": {},
   "outputs": [
    {
     "name": "stdout",
     "output_type": "stream",
     "text": [
      "Final Analysis:\n",
      "Total Frames: 400\n",
      "Day Frames: 220, Evening Frames: 0, Night Frames: 180\n",
      "Day Percentage: 55.00%\n",
      "Evening Percentage: 0.00%\n",
      "Night Percentage: 45.00%\n"
     ]
    }
   ],
   "source": [
    "# Output\n",
    "print(\"Final Analysis:\")\n",
    "print(f\"Total Frames: {day_count + evening_count + night_count}\")\n",
    "print(f\"Day Frames: {day_count}, Evening Frames: {evening_count}, Night Frames: {night_count}\")\n",
    "print(f\"Day Percentage: {day_percentage:.2f}%\")\n",
    "print(f\"Evening Percentage: {evening_percentage:.2f}%\")\n",
    "print(f\"Night Percentage: {night_percentage:.2f}%\")\n"
   ]
  },
  {
   "cell_type": "markdown",
   "metadata": {},
   "source": [
    "**Conclusion:**\n",
    "\n",
    "The analysis of the video frames reveals that 55% of the frames were captured during the day, while 45% of the frames were captured at night. Interestingly, no frames were captured during the evening. This suggests that the video primarily consists of daytime and nighttime footage, with a noticeable absence of evening scenes. This analysis can be useful for further processing or categorization based on time of day."
   ]
  }
 ],
 "metadata": {
  "kernelspec": {
   "display_name": "cv_live",
   "language": "python",
   "name": "python3"
  },
  "language_info": {
   "codemirror_mode": {
    "name": "ipython",
    "version": 3
   },
   "file_extension": ".py",
   "mimetype": "text/x-python",
   "name": "python",
   "nbconvert_exporter": "python",
   "pygments_lexer": "ipython3",
   "version": "3.11.10"
  }
 },
 "nbformat": 4,
 "nbformat_minor": 2
}
